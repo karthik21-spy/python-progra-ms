{
 "cells": [
  {
   "cell_type": "code",
   "execution_count": 2,
   "metadata": {},
   "outputs": [
    {
     "name": "stdout",
     "output_type": "stream",
     "text": [
      "given no is divisible by 3 and greater than 22\n"
     ]
    }
   ],
   "source": [
    "#1.wac to the given no is divisible by 3 and also the no should be greater than 22\n",
    "a = 27\n",
    "if a%3==0 and a>22:\n",
    "    print(\"given no is divisible by 3 and greater than 22\")\n"
   ]
  },
  {
   "cell_type": "code",
   "execution_count": 8,
   "metadata": {},
   "outputs": [
    {
     "name": "stdout",
     "output_type": "stream",
     "text": [
      "4 <class 'int'>\n",
      "given collection is even or not\n"
     ]
    }
   ],
   "source": [
    "#2.wac to perform the length of the collection is even or not\n",
    "a = \"char\"\n",
    "b=len(a)\n",
    "print(b,(type(b)))\n",
    "if b%2==0:\n",
    "    print(\"given collection is even or not\")"
   ]
  },
  {
   "cell_type": "code",
   "execution_count": 11,
   "metadata": {},
   "outputs": [
    {
     "name": "stdout",
     "output_type": "stream",
     "text": [
      "19 <class 'int'>\n",
      "given collection is less than 55 and greater than 16\n"
     ]
    }
   ],
   "source": [
    "#3.wac to perform the length of the collection is less than 55 and greater than 16\n",
    "a = \"madaraveecgvbhuhbhb\"\n",
    "b=len(a)\n",
    "print(b,type(b))\n",
    "if b<55 and b>16:\n",
    "    print(\"given collection is less than 55 and greater than 16\")      "
   ]
  },
  {
   "cell_type": "code",
   "execution_count": 5,
   "metadata": {},
   "outputs": [
    {
     "name": "stdout",
     "output_type": "stream",
     "text": [
      "15 <class 'int'>\n",
      "given no is divisible by 5\n"
     ]
    }
   ],
   "source": [
    "#4.wac to perform the length of the collection is divisible by 5 and odd\n",
    "a=\"ahahshdhfhfjfjf\"\n",
    "b=len(a)\n",
    "print(b,type(b))\n",
    "if b%5==0 :\n",
    "    print(\"given no is divisible by 5\")"
   ]
  },
  {
   "cell_type": "code",
   "execution_count": 12,
   "metadata": {},
   "outputs": [],
   "source": [
    "#5 wac to the given no is greater than 20 and less than 30 and it should be even\n",
    "a = int(input(\"enter a value\"))\n",
    "if 20<a>30 and a%2==0:\n",
    "    print(\"the given no is blw 20 and 30\")"
   ]
  },
  {
   "cell_type": "code",
   "execution_count": 11,
   "metadata": {},
   "outputs": [
    {
     "name": "stdout",
     "output_type": "stream",
     "text": [
      "given no is even and present from 40 to 70 \n"
     ]
    }
   ],
   "source": [
    "#6.wac to the given no is even and present from 40 to 70\n",
    "a= int (input(\"enter a number\"))\n",
    "if 40<=a<=70 and a%2==0:\n",
    "    print(\"given no is even and present from 40 to 70 \")"
   ]
  },
  {
   "cell_type": "code",
   "execution_count": 13,
   "metadata": {},
   "outputs": [
    {
     "name": "stdout",
     "output_type": "stream",
     "text": [
      "given no is odd and greater than 97\n"
     ]
    }
   ],
   "source": [
    "#7.wac to the given no is odd and greater than 97\n",
    "a=int(input(\"enter a value\"))\n",
    "if a>97:\n",
    "    print(\"given no is odd and greater than 97\")"
   ]
  },
  {
   "cell_type": "code",
   "execution_count": 14,
   "metadata": {},
   "outputs": [
    {
     "name": "stdout",
     "output_type": "stream",
     "text": [
      "given no is blw 48 and 122\n"
     ]
    }
   ],
   "source": [
    "#8.wac to the given no is less than 122 and greater than 48\n",
    "a= int(input(\"enter a value\"))\n",
    "if a>48 and a<122:\n",
    "    print(\"given no is blw 48 and 122\")"
   ]
  },
  {
   "cell_type": "code",
   "execution_count": 1,
   "metadata": {},
   "outputs": [
    {
     "name": "stdout",
     "output_type": "stream",
     "text": [
      "given no is divisible by 3 and 5\n"
     ]
    }
   ],
   "source": [
    "#9.wac to the given no is divisible by 3 or 5 displaying the value\n",
    "a= 15\n",
    "if a%3==0 or a%5==0:\n",
    "    print(\"given no is divisible by 3 and 5\")"
   ]
  },
  {
   "cell_type": "code",
   "execution_count": 13,
   "metadata": {},
   "outputs": [
    {
     "name": "stdout",
     "output_type": "stream",
     "text": [
      "given no is blw 100 and 200\n"
     ]
    }
   ],
   "source": [
    "#wac the given no is blw 100 and 200\n",
    "a = 133\n",
    "if  100<=a<=200:\n",
    "    print(\"given no is blw 100 and 200\")"
   ]
  },
  {
   "cell_type": "code",
   "execution_count": 8,
   "metadata": {},
   "outputs": [
    {
     "name": "stdout",
     "output_type": "stream",
     "text": [
      "given no is even and less tha 25\n"
     ]
    }
   ],
   "source": [
    "#wac to thw given no is even or less tha 25\n",
    "a = 20\n",
    "if a<25 or a%2==0:\n",
    "    print(\"given no is even and less tha 25\")"
   ]
  },
  {
   "cell_type": "code",
   "execution_count": 17,
   "metadata": {},
   "outputs": [
    {
     "name": "stdout",
     "output_type": "stream",
     "text": [
      "given no is not an odd\n"
     ]
    }
   ],
   "source": [
    "#wac to the given number is not a odd number\n",
    "a= 20\n",
    "if a%3!=0:\n",
    "    print(\"given no is not an odd\")"
   ]
  },
  {
   "cell_type": "code",
   "execution_count": 18,
   "metadata": {},
   "outputs": [
    {
     "name": "stdout",
     "output_type": "stream",
     "text": [
      "given no is not divsible by 3\n"
     ]
    }
   ],
   "source": [
    "#wac to the given no is not divisible by 3\n",
    "a = 20\n",
    "if a%3!=0:\n",
    "    print(\"given no is not divsible by 3\")"
   ]
  },
  {
   "cell_type": "code",
   "execution_count": 20,
   "metadata": {},
   "outputs": [
    {
     "name": "stdout",
     "output_type": "stream",
     "text": [
      "given no is not divsible by 3 or 5\n"
     ]
    }
   ],
   "source": [
    "#wac to the given no is not divisible by 3 and 5\n",
    "a = 22\n",
    "if a%3!=0 and a%5!=0:\n",
    "    print(\"given no is not divsible by 3 and 5\")"
   ]
  },
  {
   "cell_type": "code",
   "execution_count": 21,
   "metadata": {},
   "outputs": [
    {
     "name": "stdout",
     "output_type": "stream",
     "text": [
      "given no is not divsible by 3 or 5\n"
     ]
    }
   ],
   "source": [
    "#wac to the given no is not divisible by 3 or 5\n",
    "a = 20\n",
    "if a%3!=0 or a%5!=0:\n",
    "    print(\"given no is not divsible by 3 or 5\")"
   ]
  },
  {
   "cell_type": "code",
   "execution_count": 23,
   "metadata": {},
   "outputs": [
    {
     "name": "stdout",
     "output_type": "stream",
     "text": [
      "given ascii charcter is not divisible by 5\n"
     ]
    }
   ],
   "source": [
    "#wac to the ascii value is not divisible by 5\n",
    "char = \"B\"\n",
    "res = (ord(char))\n",
    "if res%5 != 0:\n",
    "    print(\"given ascii charcter is not divisible by 5\")"
   ]
  },
  {
   "cell_type": "code",
   "execution_count": 29,
   "metadata": {},
   "outputs": [
    {
     "name": "stdout",
     "output_type": "stream",
     "text": [
      "65\n"
     ]
    }
   ],
   "source": [
    "#wac to find out the ascii character in a given no\n",
    "char = \"A\"\n",
    "res = (ord(char))\n",
    "print (res)"
   ]
  },
  {
   "cell_type": "code",
   "execution_count": 3,
   "metadata": {},
   "outputs": [
    {
     "name": "stdout",
     "output_type": "stream",
     "text": [
      "given variable is upper case \n"
     ]
    }
   ],
   "source": [
    "#wac to the given character is uppercase or not\n",
    "a = \"A\"\n",
    "if \"A\"<=a<=\"z\":\n",
    "    print(\"given variable is upper case \")"
   ]
  },
  {
   "cell_type": "code",
   "execution_count": 2,
   "metadata": {},
   "outputs": [
    {
     "name": "stdout",
     "output_type": "stream",
     "text": [
      "given variable is lower case \n"
     ]
    }
   ],
   "source": [
    "#wac to the given character is lowercase or not\n",
    "variable = \"a\"\n",
    "if \"a\"<=variable<=\"z\":\n",
    "    print(\"given variable is lower case \")"
   ]
  },
  {
   "cell_type": "code",
   "execution_count": null,
   "metadata": {},
   "outputs": [
    {
     "name": "stdout",
     "output_type": "stream",
     "text": [
      "the ascii value = 65\n"
     ]
    }
   ],
   "source": [
    "#wac to the character is ascii number\n",
    "variable=\"A\"\n",
    "if 'A'<=variable<='Z':\n",
    "    \n",
    "        print(\"the ascii value = %d\" %ord(variable[0]))"
   ]
  },
  {
   "cell_type": "code",
   "execution_count": 15,
   "metadata": {},
   "outputs": [
    {
     "name": "stdout",
     "output_type": "stream",
     "text": [
      "given no is not a ascii\n"
     ]
    }
   ],
   "source": [
    "ariable=\"1\"\n",
    "if 'A'<=variable<='Z':\n",
    "        print(\"the ascii value = %d\" %ord(variable[0]))\n",
    "else:\n",
    "    print(\"given no is not a ascii\")        \n"
   ]
  },
  {
   "cell_type": "code",
   "execution_count": 1,
   "metadata": {},
   "outputs": [
    {
     "name": "stdout",
     "output_type": "stream",
     "text": [
      "the ascii value = 65\n"
     ]
    },
    {
     "name": "stderr",
     "output_type": "stream",
     "text": [
      "\n",
      "KeyboardInterrupt\n",
      "\n"
     ]
    }
   ],
   "source": [
    "a = \"A\"\n",
    "if 'A'<=a<='Z':\n",
    "    print(\"the ascii value = %d\" %ord(a[0]))\n",
    "    if 'A'%5==0:\n",
    "        print(\"given ascii valuie is divisible by 5\")\n",
    "else:\n",
    "    print(\"given ascii is  not divisible by 5\")    "
   ]
  },
  {
   "cell_type": "code",
   "execution_count": 9,
   "metadata": {},
   "outputs": [
    {
     "name": "stdout",
     "output_type": "stream",
     "text": [
      "given characters are alphabet\n"
     ]
    }
   ],
   "source": [
    "variable = 'axvd'\n",
    "if 'a'<=variable<='z':\n",
    "    print(\"given characters are alphabet\")"
   ]
  },
  {
   "cell_type": "code",
   "execution_count": 11,
   "metadata": {},
   "outputs": [
    {
     "name": "stdout",
     "output_type": "stream",
     "text": [
      "given characters are not upper case\n"
     ]
    }
   ],
   "source": [
    "variable = 'axvd'\n",
    "if 'A'<=variable<='Z':\n",
    "    print(\"given characters are upper case\")\n",
    "else:\n",
    "    print(\"given characters are not upper case\")    "
   ]
  },
  {
   "cell_type": "code",
   "execution_count": 12,
   "metadata": {},
   "outputs": [
    {
     "name": "stdout",
     "output_type": "stream",
     "text": [
      "given characters are not lower case\n"
     ]
    }
   ],
   "source": [
    "variable = 'CGHB'\n",
    "if 'a'<=variable<='z':\n",
    "    print(\"given characters are lower case\")\n",
    "else:\n",
    "    print(\"given characters are not lower case\")    "
   ]
  },
  {
   "cell_type": "code",
   "execution_count": 13,
   "metadata": {},
   "outputs": [
    {
     "name": "stdout",
     "output_type": "stream",
     "text": [
      "given no are not alphabet\n"
     ]
    }
   ],
   "source": [
    "variable = '12345'\n",
    "if 'a'<=variable<='z':\n",
    "    print(\"given characters are alphabet\")\n",
    "else:\n",
    "    print(\"given no are not alphabet\")    "
   ]
  },
  {
   "cell_type": "code",
   "execution_count": 2,
   "metadata": {},
   "outputs": [
    {
     "name": "stdout",
     "output_type": "stream",
     "text": [
      "given char is not ascii number\n"
     ]
    }
   ],
   "source": [
    "#wac to the given charactyer should not be an ascii number\n",
    "a= '%'\n",
    "if not ('a'<=a<='z') or (0<9):\n",
    "    print (\"given char is not ascii number\")"
   ]
  },
  {
   "cell_type": "code",
   "execution_count": 4,
   "metadata": {},
   "outputs": [
    {
     "name": "stdout",
     "output_type": "stream",
     "text": [
      "given char is special char\n"
     ]
    }
   ],
   "source": [
    "#wac to the given character is the special character\n",
    "a= '*'\n",
    "if not ('a'<=a<='z') or (0<9):\n",
    "    print (\"given char is special char\")"
   ]
  },
  {
   "cell_type": "code",
   "execution_count": 5,
   "metadata": {},
   "outputs": [
    {
     "name": "stdout",
     "output_type": "stream",
     "text": [
      "given char is vowel\n"
     ]
    }
   ],
   "source": [
    "a= 'e'\n",
    "if a in 'aeiou':\n",
    "    print(\"given char is vowel\")"
   ]
  },
  {
   "cell_type": "code",
   "execution_count": 6,
   "metadata": {},
   "outputs": [
    {
     "name": "stdout",
     "output_type": "stream",
     "text": [
      "given char is consonant\n"
     ]
    }
   ],
   "source": [
    "a= 'd'\n",
    "if a not in 'aeiou':\n",
    "    print(\"given char is consonant\")"
   ]
  },
  {
   "cell_type": "code",
   "execution_count": 9,
   "metadata": {},
   "outputs": [
    {
     "name": "stdout",
     "output_type": "stream",
     "text": [
      "E\n"
     ]
    }
   ],
   "source": [
    "a = 'e'\n",
    "res = (ord(a)-32)\n",
    "print(chr(res))"
   ]
  },
  {
   "cell_type": "code",
   "execution_count": 10,
   "metadata": {},
   "outputs": [
    {
     "name": "stdout",
     "output_type": "stream",
     "text": [
      "s\n"
     ]
    }
   ],
   "source": [
    "a = 'S'\n",
    "res = (ord(a)+32)\n",
    "print(chr(res))"
   ]
  },
  {
   "cell_type": "code",
   "execution_count": 11,
   "metadata": {},
   "outputs": [
    {
     "name": "stdout",
     "output_type": "stream",
     "text": [
      "t\n"
     ]
    }
   ],
   "source": [
    "a = 's'\n",
    "res = (ord(a)+1)\n",
    "print(chr(res))"
   ]
  },
  {
   "cell_type": "code",
   "execution_count": 12,
   "metadata": {},
   "outputs": [
    {
     "name": "stdout",
     "output_type": "stream",
     "text": [
      "r\n"
     ]
    }
   ],
   "source": [
    "a = 's'\n",
    "res = (ord(a)-1)\n",
    "print(chr(res))"
   ]
  },
  {
   "cell_type": "code",
   "execution_count": 16,
   "metadata": {},
   "outputs": [
    {
     "name": "stdout",
     "output_type": "stream",
     "text": [
      "triangle is valid based on angle\n"
     ]
    }
   ],
   "source": [
    "a=60\n",
    "b=60\n",
    "c=60\n",
    "if a+b+c == 180:\n",
    "    print(\"triangle is valid based on angle\")"
   ]
  },
  {
   "cell_type": "code",
   "execution_count": 17,
   "metadata": {},
   "outputs": [
    {
     "name": "stdout",
     "output_type": "stream",
     "text": [
      "the number is non negative\n"
     ]
    }
   ],
   "source": [
    "a=100\n",
    "if a>0:\n",
    "    print(\"the number is non negative\")"
   ]
  }
 ],
 "metadata": {
  "kernelspec": {
   "display_name": "Python 3",
   "language": "python",
   "name": "python3"
  },
  "language_info": {
   "codemirror_mode": {
    "name": "ipython",
    "version": 3
   },
   "file_extension": ".py",
   "mimetype": "text/x-python",
   "name": "python",
   "nbconvert_exporter": "python",
   "pygments_lexer": "ipython3",
   "version": "3.10.4"
  }
 },
 "nbformat": 4,
 "nbformat_minor": 2
}
